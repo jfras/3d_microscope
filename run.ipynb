{
 "cells": [
  {
   "cell_type": "markdown",
   "metadata": {},
   "source": [
    "read and process the video file"
   ]
  },
  {
   "cell_type": "code",
   "execution_count": 26,
   "metadata": {},
   "outputs": [],
   "source": [
    "#! /usr/bin/python\n",
    "import numpy as np\n",
    "import cv2\n",
    "cv2.destroyAllWindows()\n",
    "# cap = cv2.VideoCapture('data/IMGP1653.MOV') # insect eye\n",
    "# cap = cv2.VideoCapture('data/IMGP1421.MOV') # denim\n",
    "# cap = cv2.VideoCapture('data/IMGP1652.MOV') # insect face\n",
    "cap = cv2.VideoCapture('data/IMGP1661.MOV') # coin\n",
    "# cap = cv2.VideoCapture('data/IMGP1659.MOV') # scrath on paper\n",
    "# cap = cv2.VideoCapture('data/IMGP1654.MOV') # insect leg\n",
    "stop_frame = 800\n",
    "gradients = []\n",
    "frames = []\n",
    "iteration = 0\n",
    "pause = False\n",
    "break_loop = False\n",
    "\n",
    "while not break_loop:\n",
    "    if not pause:\n",
    "        ret, frame = cap.read()\n",
    "        if not ret:\n",
    "            break\n",
    "        if iteration == stop_frame:\n",
    "            break\n",
    "        iteration += 1\n",
    "        # print(iteration)\n",
    "        gray = cv2.cvtColor(frame, cv2.COLOR_BGR2GRAY)\n",
    "        gray = cv2.blur(gray, (3,3)) \n",
    "        laplacian = cv2.Laplacian(gray,cv2.CV_64F, ksize=3)\n",
    "        # laplacian = cv2.Sobel(src=gray, ddepth=cv2.CV_64F, dx=1, dy=1, ksize=3) # Combined X and Y Sobel Edge Detection\n",
    "        # laplacian = cv2.Laplacian(gray,cv2.CV_64F)\n",
    "\n",
    "        laplacian = cv2.convertScaleAbs( laplacian )\n",
    "\n",
    "        gradients.append(laplacian)\n",
    "        frames.append(frame)\n",
    "\n",
    "        effective_image = np.vstack((laplacian, gray))\n",
    "\n",
    "        width = int(effective_image.shape[1] * 0.4)\n",
    "        height = int(effective_image.shape[0] * 0.4)\n",
    "        dim = (width, height)\n",
    "        cv2.imshow('window', cv2.resize(effective_image, dim, interpolation = cv2.INTER_AREA))\n",
    "    \n",
    "    k = cv2.waitKey(1)\n",
    "\n",
    "    if k == ord('p'):\n",
    "        pause = not pause\n",
    "        print(\"pause\", pause)\n",
    "    if k == ord('q'):\n",
    "        break_loop = True \n",
    "\n",
    "frames = np.array(frames)\n",
    "frames = frames.transpose(1,2,0,3)"
   ]
  },
  {
   "cell_type": "markdown",
   "metadata": {},
   "source": [
    "get the depth."
   ]
  },
  {
   "cell_type": "code",
   "execution_count": 27,
   "metadata": {},
   "outputs": [
    {
     "data": {
      "text/plain": [
       "-1"
      ]
     },
     "execution_count": 27,
     "metadata": {},
     "output_type": "execute_result"
    }
   ],
   "source": [
    "cv2.destroyAllWindows()\n",
    "gradients = np.array(gradients)\n",
    "maxima = np.amax(gradients, axis=0)\n",
    "\n",
    "\n",
    "\n",
    "# maxima = cv2.blur(maxima, (3,3))\n",
    "\n",
    "width = int(maxima.shape[1] * 0.4)\n",
    "height = int(maxima.shape[0] * 0.4)\n",
    "dim = (width, height)\n",
    "indices = np.array(gradients.argmax(axis=0)).astype(np.uint32)\n",
    "indices_blurred = cv2.blur(indices.astype(np.uint8), (13,13))\n",
    "mxm = cv2.resize(maxima, dim, interpolation = cv2.INTER_AREA).astype(np.float)\n",
    "cv2.imshow('gradient_maxima', mxm.astype(np.uint8))\n",
    "mxm*=255.0/np.amax(mxm)\n",
    "cv2.imshow('gradient_maxima_jet', cv2.applyColorMap(mxm.astype(np.uint8), cv2.COLORMAP_JET))\n",
    "cv2.imshow('gradient_maxima_indices', cv2.resize(indices.astype(np.uint8), dim, interpolation = cv2.INTER_AREA))\n",
    "\n",
    "cv2.waitKey(100)\n",
    "\n",
    "\n",
    "# scatter_points = []\n",
    "\n",
    "# scatter_np_points = np.array[]\n",
    "# scatter_np_points = \n"
   ]
  },
  {
   "cell_type": "markdown",
   "metadata": {},
   "source": [
    "the following section displays the result using open3d library"
   ]
  },
  {
   "cell_type": "code",
   "execution_count": 28,
   "metadata": {},
   "outputs": [
    {
     "name": "stderr",
     "output_type": "stream",
     "text": [
      "/tmp/ipykernel_101913/3594051229.py:6: DeprecationWarning: Please use `gaussian_filter` from the `scipy.ndimage` namespace, the `scipy.ndimage.filters` namespace is deprecated.\n",
      "  from scipy.ndimage.filters import gaussian_filter\n"
     ]
    }
   ],
   "source": [
    "\n",
    "cv2.destroyAllWindows()\n",
    "from mpl_toolkits import mplot3d\n",
    "import numpy as np\n",
    "import matplotlib.pyplot as plt\n",
    "import open3d as o3d\n",
    "from scipy.ndimage.filters import gaussian_filter\n",
    "\n",
    "smoothing_kernel_size = 3\n",
    "kernel = np.ones((smoothing_kernel_size, smoothing_kernel_size), np.uint8)\n",
    "\n",
    "threshold =  np.percentile(maxima, 70)\n",
    "print(\"threshold: \", threshold)\n",
    "mask = np.array(maxima>threshold).astype(np.uint8)\n",
    "# mask = cv2.erode(mask, kernel)\n",
    "mask = cv2.dilate(mask, kernel)\n",
    "# mask = cv2.dilate(mask, kernel)\n",
    "# mask = cv2.erode(mask, kernel)\n",
    "mask = cv2.erode(mask, kernel)\n",
    "mask = cv2.erode(mask, kernel)\n",
    "cv2.imshow(\"mask\", mask*255)\n",
    "cv2.waitKey(100)\n",
    "negated_mask = np.ones(mask.shape)-mask\n",
    "# indices_blurred = cv2.blur(indices.astype(np.uint8), (13,13))\n",
    "indices_blurred = gaussian_filter(indices.astype(np.float), sigma=smoothing_kernel_size)\n",
    "indices_blurred = indices_blurred * mask + indices * negated_mask\n",
    "\n",
    "(r, c) = np.shape(indices)\n",
    "# print (r,c,b)\n",
    "(X, Y) = np.meshgrid(range(0, c), range(0, r))\n",
    "\n",
    "\n",
    "#convert array of maximum gradient indices to a vector of 3d points\n",
    "scatter_points = np.zeros((1080,1920,3))\n",
    "scatter_points[:,:,0] = X\n",
    "scatter_points[:,:,1] = Y\n",
    "scatter_points[:,:,2] = indices_blurred*5\n",
    "shp = scatter_points.shape\n",
    "scatter_points = scatter_points.transpose(1,0,2)\n",
    "scatter_points = scatter_points.reshape(1920*1080,3)\n",
    "pcd = o3d.geometry.PointCloud()\n",
    "\n",
    "\n",
    "pcd.points = o3d.utility.Vector3dVector(scatter_points)\n",
    "\n",
    "\n",
    "b, c  = np.meshgrid(range(0,1080),range(0,1920))\n",
    "colors = frames[b,c,indices[b,c],:].reshape(1920*1080,3)\n",
    "colors = np.flip(colors, axis=1)\n",
    "# colors = np.array(scatter_points)[:,3:6]\n",
    "pcd.colors = o3d.utility.Vector3dVector(colors/256.0)\n",
    "# cl, ind = pcd.remove_statistical_outlier(nb_neighbors=20, std_ratio=2.0)\n",
    "cl, ind = pcd.remove_radius_outlier(nb_points=16, radius=10)\n",
    "# cl = cl.voxel_down_sample(voxel_size=10)\n",
    "\n",
    "o3d.io.write_point_cloud(\"pointcloud.pcd\", cl)\n",
    "\n",
    "o3d.visualization.draw_geometries([cl])\n",
    "# o3d.visualization.draw_geometries([pcd])\n",
    "cv2.destroyAllWindows()"
   ]
  },
  {
   "cell_type": "code",
   "execution_count": null,
   "metadata": {},
   "outputs": [],
   "source": []
  }
 ],
 "metadata": {
  "kernelspec": {
   "display_name": "Python 3.8.10 64-bit",
   "language": "python",
   "name": "python3"
  },
  "language_info": {
   "codemirror_mode": {
    "name": "ipython",
    "version": 3
   },
   "file_extension": ".py",
   "mimetype": "text/x-python",
   "name": "python",
   "nbconvert_exporter": "python",
   "pygments_lexer": "ipython3",
   "version": "3.8.10"
  },
  "orig_nbformat": 4,
  "vscode": {
   "interpreter": {
    "hash": "767d51c1340bd893661ea55ea3124f6de3c7a262a8b4abca0554b478b1e2ff90"
   }
  }
 },
 "nbformat": 4,
 "nbformat_minor": 2
}
