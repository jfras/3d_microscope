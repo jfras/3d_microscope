{
 "cells": [
  {
   "cell_type": "markdown",
   "metadata": {},
   "source": [
    "read and process the video file"
   ]
  },
  {
   "cell_type": "code",
   "execution_count": 45,
   "metadata": {},
   "outputs": [],
   "source": [
    "#! /usr/bin/python\n",
    "import numpy as np\n",
    "import cv2\n",
    "cv2.destroyAllWindows()\n",
    "# cap = cv2.VideoCapture('data/IMGP1653.MOV') # insect eye\n",
    "# cap = cv2.VideoCapture('data/IMGP1421.MOV') # denim\n",
    "cap = cv2.VideoCapture('data/IMGP1652.MOV') # insect face\n",
    "# cap = cv2.VideoCapture('data/IMGP1661.MOV') # coin\n",
    "# cap = cv2.VideoCapture('data/IMGP1659.MOV') # scrath on paper\n",
    "# cap = cv2.VideoCapture('data/IMGP1654.MOV') # insect leg\n",
    "how_many_frames = 800\n",
    "gradients = []\n",
    "frames = []\n",
    "iteration = 0\n",
    "pause = False\n",
    "break_loop = False\n",
    "while not break_loop:\n",
    "    if not pause:\n",
    "        ret, frame = cap.read()\n",
    "        if not ret:\n",
    "            break\n",
    "        if iteration == how_many_frames:\n",
    "            break\n",
    "        iteration += 1\n",
    "        # print(iteration)\n",
    "        gray = cv2.cvtColor(frame, cv2.COLOR_BGR2GRAY)\n",
    "        gray = cv2.blur(gray, (3,3)) \n",
    "        laplacian = cv2.Laplacian(gray,cv2.CV_64F, ksize=3)\n",
    "        # laplacian = cv2.Sobel(src=gray, ddepth=cv2.CV_64F, dx=1, dy=1, ksize=3) # Combined X and Y Sobel Edge Detection\n",
    "\n",
    "        # laplacian = cv2.Laplacian(gray,cv2.CV_64F)\n",
    "        \n",
    "        laplacian = cv2.convertScaleAbs( laplacian )\n",
    "\n",
    "        gradients.append(laplacian)\n",
    "        frames.append(frame)\n",
    "\n",
    "        # effective_image = np.vstack(((laplacian*255.0/np.amax(laplacian)).astype(np.uint8), gray))\n",
    "        effective_image = np.vstack((laplacian, gray))\n",
    "        # effective_image = np.vstack((laplacian, gray))\n",
    "        # effective_image = gray\n",
    "        width = int(effective_image.shape[1] * 0.4)\n",
    "        height = int(effective_image.shape[0] * 0.4)\n",
    "        dim = (width, height)\n",
    "        cv2.imshow('window', cv2.resize(effective_image, dim, interpolation = cv2.INTER_AREA))\n",
    "    \n",
    "    k = cv2.waitKey(30)\n",
    "\n",
    "    if k == ord('p'):\n",
    "        pause = not pause\n",
    "        print(\"pause\", pause)\n",
    "    if k == ord('q'):\n",
    "        break_loop = True \n",
    "\n"
   ]
  },
  {
   "cell_type": "markdown",
   "metadata": {},
   "source": [
    "get the depth."
   ]
  },
  {
   "cell_type": "code",
   "execution_count": 47,
   "metadata": {},
   "outputs": [
    {
     "name": "stdout",
     "output_type": "stream",
     "text": [
      "threshold:  10.0\n",
      "saving\n",
      "done\n"
     ]
    }
   ],
   "source": [
    "cv2.destroyAllWindows()\n",
    "gradients = np.array(gradients)\n",
    "maxima = np.amax(gradients, axis=0)\n",
    "# maxima = cv2.blur(maxima, (3,3))\n",
    "\n",
    "width = int(maxima.shape[1] * 0.4)\n",
    "height = int(maxima.shape[0] * 0.4)\n",
    "dim = (width, height)\n",
    "indexes = np.array(gradients.argmax(axis=0)).astype(np.uint32)\n",
    "indexes_blurred = cv2.blur(indexes.astype(np.uint8), (13,13))\n",
    "mxm = cv2.resize(maxima, dim, interpolation = cv2.INTER_AREA).astype(np.float)\n",
    "cv2.imshow('gradient_maxima', mxm.astype(np.uint8))\n",
    "mxm*=255.0/np.amax(mxm)\n",
    "cv2.imshow('gradient_maxima_jet', cv2.applyColorMap(mxm.astype(np.uint8), cv2.COLORMAP_JET))\n",
    "cv2.imshow('gradient_maxima_indices', cv2.resize(indexes.astype(np.uint8), dim, interpolation = cv2.INTER_AREA))\n",
    "\n",
    "k = cv2.waitKey(1000)\n",
    "threshold =  np.percentile(maxima, 50)\n",
    "# threshold =  150\n",
    "print(\"threshold: \",threshold)\n",
    "print('saving')\n",
    "width = int(maxima.shape[1])\n",
    "height = int(maxima.shape[0])\n",
    "focused_wb = np.zeros((height, width, 3), np.uint8)\n",
    "focused = np.zeros((height, width, 3), np.uint8)\n",
    "\n",
    "scatter_points = []\n",
    "with open(\"pc.obj\", 'w') as f:\n",
    "    for x in range(width):\n",
    "        for y in range(height):\n",
    "            factor = -5\n",
    "            # if maxima[y,x] > 220:\n",
    "\n",
    "            color = frames[int(indexes[y,x])][y,x]\n",
    "            # grad = [maxima[y,x]] * 20\n",
    "            focused_wb[y,x,:] = color\n",
    "            if maxima[y,x] > threshold:\n",
    "                focused[y,x,:] = color\n",
    "                point = list([x,y,indexes[y,x]*factor]) + list(reversed(color))\n",
    "                scatter_points.append(point)\n",
    "                # print(color)\n",
    "                # print(color)\n",
    "                # print(*list(color))\n",
    "                # f.write(\"v %f %f %f %d %d %d\\n\" % (*list(point),)) # do not write eventually\n",
    "            else:\n",
    "                indexes_blurred[y,x] = 0        \n",
    "        cv2.imshow('filtered', cv2.resize(indexes_blurred, dim, interpolation = cv2.INTER_AREA))\n",
    "        k = cv2.waitKey(1)\n",
    "print('done')"
   ]
  },
  {
   "cell_type": "markdown",
   "metadata": {},
   "source": [
    "the following section displays the result using open3d library"
   ]
  },
  {
   "cell_type": "code",
   "execution_count": 48,
   "metadata": {},
   "outputs": [],
   "source": [
    "from mpl_toolkits import mplot3d\n",
    "import numpy as np\n",
    "import matplotlib.pyplot as plt\n",
    "import open3d as o3d\n",
    "\n",
    "pcd = o3d.geometry.PointCloud()\n",
    "pcd.points = o3d.utility.Vector3dVector(np.array(scatter_points)[:,0:3])\n",
    "colors = np.array(scatter_points)[:,3:6]\n",
    "pcd.colors = o3d.utility.Vector3dVector(colors/256.0)\n",
    "# cl, ind = pcd.remove_statistical_outlier(nb_neighbors=20, std_ratio=2.0)\n",
    "cl, ind = pcd.remove_radius_outlier(nb_points=16, radius=10)\n",
    "# cl = cl.voxel_down_sample(voxel_size=10)\n",
    "o3d.visualization.draw_geometries([cl],\n",
    "                                  zoom=0.3412,\n",
    "                                  front=[0.4257, -0.2125, -0.8795],\n",
    "                                  lookat=[2.6172, 2.0475, 1.532],\n",
    "                                  up=[-0.0694, -0.9768, 0.2024])\n",
    "cv2.destroyAllWindows()"
   ]
  },
  {
   "cell_type": "code",
   "execution_count": null,
   "metadata": {},
   "outputs": [],
   "source": []
  }
 ],
 "metadata": {
  "kernelspec": {
   "display_name": "Python 3.8.10 64-bit",
   "language": "python",
   "name": "python3"
  },
  "language_info": {
   "codemirror_mode": {
    "name": "ipython",
    "version": 3
   },
   "file_extension": ".py",
   "mimetype": "text/x-python",
   "name": "python",
   "nbconvert_exporter": "python",
   "pygments_lexer": "ipython3",
   "version": "3.8.10"
  },
  "orig_nbformat": 4,
  "vscode": {
   "interpreter": {
    "hash": "767d51c1340bd893661ea55ea3124f6de3c7a262a8b4abca0554b478b1e2ff90"
   }
  }
 },
 "nbformat": 4,
 "nbformat_minor": 2
}
